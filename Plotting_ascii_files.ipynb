{
 "cells": [
  {
   "cell_type": "markdown",
   "metadata": {},
   "source": [
    "## Plotting model atmospheres"
   ]
  },
  {
   "cell_type": "code",
   "execution_count": 1,
   "metadata": {
    "collapsed": true
   },
   "outputs": [],
   "source": [
    "import numpy as np; np.random.seed(0)\n",
    "import matplotlib.pyplot as plt\n",
    "import matplotlib as mpl\n",
    "import astropy.io\n",
    "import astropy\n",
    "import pandas as pd\n",
    "%matplotlib inline\n",
    "import matplotlib.colors\n",
    "from scipy.optimize import curve_fit\n",
    "\n",
    "from astropy.io import ascii\n",
    "\n",
    "import os\n",
    "from os import path\n",
    "\n",
    "import glob\n",
    "\n"
   ]
  },
  {
   "cell_type": "code",
   "execution_count": 2,
   "metadata": {},
   "outputs": [
    {
     "name": "stdout",
     "output_type": "stream",
     "text": [
      "C:\\Users\\Florence\\Documents\\Summer_research_project_Cambridge\\singleSpectra\\csvFiles\n"
     ]
    }
   ],
   "source": [
    "os.chdir(\"C:\\\\Users\\\\Florence\\\\Documents\\\\Summer_research_project_Cambridge\\\\singleSpectra\\\\csvFiles\")\n",
    "\n",
    "cwd = os.getcwd()\n",
    "\n",
    "print(cwd)"
   ]
  },
  {
   "cell_type": "code",
   "execution_count": 3,
   "metadata": {},
   "outputs": [
    {
     "name": "stdout",
     "output_type": "stream",
     "text": [
      "121\n"
     ]
    }
   ],
   "source": [
    "model_atmo_data = []\n",
    "\n",
    "for each_file in glob.glob('*t6000*.ascii'):\n",
    "    model_atmo_data.append(each_file)\n",
    "    \n",
    "\n",
    "print(len(model_atmo_data))"
   ]
  },
  {
   "cell_type": "markdown",
   "metadata": {},
   "source": [
    "### Plotting BP and RP spectra"
   ]
  },
  {
   "cell_type": "code",
   "execution_count": 4,
   "metadata": {
    "collapsed": true
   },
   "outputs": [],
   "source": [
    "pixels_met_poor = ascii.read(model_atmo_data[112])['pwl']\n",
    "bp_met_poor = ascii.read(model_atmo_data[112])['bp']\n",
    "rp_met_poor = ascii.read(model_atmo_data[112])['rp']\n",
    "\n",
    "pixels_met_rich = ascii.read(model_atmo_data[1])['pwl']\n",
    "bp_met_rich = ascii.read(model_atmo_data[1])['bp']\n",
    "rp_met_rich = ascii.read(model_atmo_data[1])['rp']\n",
    "\n",
    "#print(bp_met_poor)"
   ]
  },
  {
   "cell_type": "code",
   "execution_count": 5,
   "metadata": {
    "collapsed": true
   },
   "outputs": [],
   "source": [
    "coeff_BP = [+7.509380175000E-01, -1.214620700000E+03, +1.248006218000E+06, -7.563887762000E+08, +2.499737360000E+11, -4.386634008000E+13, +3.143734670000E+15]\n",
    "#print(\"BP coefficients\", coeff_BP)\n",
    "\n",
    "\n",
    "\n",
    "coeff_RP = [-2.010111264000E+00, +4.381088249000E+03, -4.500504745000E+06, +2.727226923000E+09, -9.010703193000E+11, +1.580837453000E+14, -1.132448176000E+16]\n",
    "#print(\"RP coefficients\", coeff_RP)\n",
    "\n",
    "\n",
    "BP_wavetopix = np.zeros(101)\n",
    "RP_wavetopix = np.zeros(101)\n",
    "wave_coord = np.zeros(101)\n",
    "\n",
    "\n",
    "for i in range (0,101):\n",
    "    wave = 300+i*10\n",
    "    wave_coord[i] = wave\n",
    "    w = 1/wave\n",
    "    bp = 0.0\n",
    "    rp = 0.0\n",
    "    \n",
    "    for j in range (0,7):\n",
    "        bp += coeff_BP[j]*w**j\n",
    "        rp += coeff_RP[j]*w**j\n",
    "        \n",
    "    bp = 100*bp\n",
    "    rp = 100*rp\n",
    "    \n",
    "    bpcoord = 30 - bp\n",
    "    rpcoord = 30 - rp\n",
    "    \n",
    "    BP_wavetopix[i] = bpcoord\n",
    "    RP_wavetopix[i] = rpcoord\n",
    "    #rint(\"wavelength is\",wave)\n",
    "    \n",
    "    \n",
    "\n",
    "#rint(\"BP to pixels is\", BP_wavetopix)\n",
    "#print(wave_coord)\n",
    "#print(len(wave_coord))"
   ]
  },
  {
   "cell_type": "code",
   "execution_count": 10,
   "metadata": {},
   "outputs": [
    {
     "name": "stderr",
     "output_type": "stream",
     "text": [
      "C:\\Users\\Florence\\Anaconda3\\lib\\site-packages\\matplotlib\\axes\\_axes.py:545: UserWarning: No labelled objects found. Use label='...' kwarg on individual plots.\n",
      "  warnings.warn(\"No labelled objects found. \"\n"
     ]
    },
    {
     "data": {
      "image/png": "[encoded data removed]",
      "text/plain": [
       "<matplotlib.figure.Figure at 0x204ae74ae48>"
      ]
     },
     "metadata": {},
     "output_type": "display_data"
    }
   ],
   "source": [
    "fig, ax = plt.subplots()\n",
    "\n",
    "ax.plot(pixels_met_rich, bp_met_rich, 'b-')\n",
    "ax.set_xlim(60,0)\n",
    "ax2 = ax.twiny()\n",
    "\n",
    "ax2.set_xlim(60,0)\n",
    "wave_pos = [51.34367944742, 45.719669588983436, 28.84225802506438, 24.033280778000027, 20.437459322715004,14.265690386677687] \n",
    "label = ['330','350','450','500','550','680']\n",
    "ax2.set_xticks(wave_pos)\n",
    "ax2.set_xticklabels(label)\n",
    "\n",
    "#ax2.annotate('390',xy=(37.27334893603563, max(bp_met_rich)),xycoords='data',xytext=(37.27334893603563, (max(bp_met_rich)-2)),textcoords='data',horizontalalignment='right', verticalalignment='top')\n",
    "#ax2.annotate('390',xy=(37.27334893603563, max(bp_met_rich)),xycoords='data',xytext=(37.27334893603563, (max(bp_met_rich)-10)),textcoords='data',arrowprops=dict(width=0.01,headwidth=0.01,headlength=10,shrink=0.05),horizontalalignment=\"right\")\n",
    "\n",
    "ax.axvspan(37.27334893603563, 35.585936189453314, facecolor='b', alpha=0.3)\n",
    "\n",
    "plt.legend()\n",
    "plt.show()"
   ]
  },
  {
   "cell_type": "code",
   "execution_count": 13,
   "metadata": {},
   "outputs": [
    {
     "data": {
      "image/png": "[encoded data removed]",
      "text/plain": [
       "<matplotlib.figure.Figure at 0x204add5ef98>"
      ]
     },
     "metadata": {},
     "output_type": "display_data"
    },
    {
     "data": {
      "text/plain": [
       "<matplotlib.figure.Figure at 0x204aedd7710>"
      ]
     },
     "metadata": {},
     "output_type": "display_data"
    }
   ],
   "source": [
    "fig, ((ax1, ax2), (ax3, ax4)) = plt.subplots(2, 2)\n",
    "ax1.plot(pixels_met_poor, bp_met_poor,'b-')\n",
    "\n",
    "ax5 = ax1.twiny()\n",
    "ax6 = ax2.twiny()\n",
    "\n",
    "ax5.set_xlim(60,0)\n",
    "ax6.set_xlim(0,60)\n",
    "\n",
    "wave_pos_bp = [51.34367944742, 45.719669588983436, 28.84225802506438, 24.033280778000027,14.265690386677687] \n",
    "label_bp = ['330','350','450','500','680']\n",
    "ax5.set_xticks(wave_pos_bp)\n",
    "ax5.set_xticklabels(label_bp)\n",
    "\n",
    "#ax5.annotate('390',xy=(37.27334893603563, max(bp_met_poor)),xycoords='data',xytext=(37.27334893603563, (max(bp_met_poor)-10)),textcoords='data',arrowprops=dict(width=0.01,headwidth=0.01,headlength=10,shrink=0.05),horizontalalignment=\"right\")\n",
    "\n",
    "wave_pos_rp = [11.199712338077706, 19.358812468789207, 29.98194069125956, 38.43283563931157, 48.97561141549811]\n",
    "label_rp =['640','700','800','900','1050']\n",
    "ax6.set_xticks(wave_pos_rp)\n",
    "ax6.set_xticklabels(label_rp)\n",
    "\n",
    "ax3.plot(pixels_met_rich, bp_met_rich,'b-')\n",
    "ax2.plot(pixels_met_poor, rp_met_poor,'r-')\n",
    "ax4.plot(pixels_met_rich, rp_met_rich,'r-')\n",
    "ax1.set_xlim(60,0)\n",
    "ax3.set_xlim(60,0)\n",
    "ax3.set_xlabel('pixels')\n",
    "ax4.set_xlabel('pixels')\n",
    "ax1.set_ylabel('flux')\n",
    "ax3.set_ylabel('flux')\n",
    "ax5.set_xlabel('wavelength (nm)')\n",
    "ax6.set_xlabel('wavelength (nm)')\n",
    "ax1.axvspan(37.27334893603563, 35.585936189453314, facecolor='b', alpha=0.3)\n",
    "ax3.axvspan(37.27334893603563, 35.585936189453314, facecolor='b', alpha=0.3)\n",
    "#plt.tight_layout()\n",
    "\n",
    "fig.set_size_inches(10.5, 7.5)\n",
    "plt.show()\n",
    "plt.savefig('Spectra_graph_update.png',dpi=300)"
   ]
  },
  {
   "cell_type": "markdown",
   "metadata": {
    "collapsed": true
   },
   "source": [
    "\n",
    "coeff_BP = [+7.509380175000E-01, -1.214620700000E+03, +1.248006218000E+06, -7.563887762000E+08, +2.499737360000E+11, -4.386634008000E+13, +3.143734670000E+15]\n",
    "#print(\"BP coefficients\", coeff_BP)\n",
    "\n",
    "\n",
    "\n",
    "coeff_RP = [-2.010111264000E+00, +4.381088249000E+03, -4.500504745000E+06, +2.727226923000E+09, -9.010703193000E+11, +1.580837453000E+14, -1.132448176000E+16]\n",
    "#print(\"RP coefficients\", coeff_RP)\n",
    "\n",
    "\n",
    "j = np.arange(0,7,1)\n",
    "\n",
    "wave_coords = []\n",
    "BP_coords = []\n",
    "RP_coords = []\n",
    "\n",
    "for i in range (3,76):\n",
    "    wave_coord = 300+i*10  #wavelength in nm\n",
    "\n",
    "    #print(\"wavelengths are:\", wave_coord)\n",
    "    \n",
    "    wave_coords.append(wave_coord)\n",
    "    \n",
    "    w = 1/wave_coord #this has units of nm^-1\n",
    "    \n",
    "    BP = 0.0\n",
    "    RP = 0.0\n",
    "\n",
    "\n",
    "    for j in range (0,7):\n",
    "        #BP = 0.0\n",
    "        #RP = 0.0\n",
    "        \n",
    "        BP = BP+coeff_BP[j]*(w**j)\n",
    "        RP = RP+coeff_RP[j]*(w**j)\n",
    "        \n",
    "        \n",
    "        \n",
    "    #print(\"BP is:\", BP)\n",
    "    #print(\"RP is:\", RP)\n",
    "        \n",
    "    BP = 100*BP  #to convert from nm to mm\n",
    "    RP = 100*RP\n",
    "        \n",
    "    BP_coord = 30 - BP\n",
    "    RP_coord = 30 - RP\n",
    "    \n",
    "    BP_coords.append(BP_coord)\n",
    "    RP_coords.append(RP_coord)\n",
    "    \n",
    "    #print(\"BP coordinates\", BP_coord)\n",
    "    #print(\"RP coordinates\", RP_coord)\n",
    "    \n",
    "#print(np.vstack(wave_coords))\n",
    "#print(np.vstack(BP_coords))\n",
    "#print(np.vstack(RP_coords))\n",
    "\n",
    "#print(wave_coords)\n",
    "#print(BP_coords)"
   ]
  },
  {
   "cell_type": "code",
   "execution_count": null,
   "metadata": {
    "collapsed": true
   },
   "outputs": [],
   "source": [
    "#for wave_coords, BP_coords, RP_coords in zip(wave_coords, BP_coords, RP_coords):\n",
    "    #print(wave_coords, BP_coords, RP_coords) #This prints out the data in a somewhat more readable format"
   ]
  },
  {
   "cell_type": "code",
   "execution_count": null,
   "metadata": {
    "collapsed": true
   },
   "outputs": [],
   "source": [
    "#print(ascii.read(model_atmo_data[1])['bp'])"
   ]
  },
  {
   "cell_type": "code",
   "execution_count": null,
   "metadata": {
    "collapsed": true
   },
   "outputs": [],
   "source": [
    "#print(wave_coords)"
   ]
  },
  {
   "cell_type": "markdown",
   "metadata": {},
   "source": [
    "### Plotting a scatter plot"
   ]
  },
  {
   "cell_type": "code",
   "execution_count": null,
   "metadata": {},
   "outputs": [],
   "source": [
    "# This loop calculates the integrated BP, RP, and CaH&K fluxes and their associated magnitudes. \n",
    "# It also extracts the values of metallicity and temperature from the filenames and puts them into a list\n",
    "\n",
    "i = np.arange(0,(len(model_atmo_data)),1)\n",
    "\n",
    "int_bp_fluxes = []\n",
    "int_rp_fluxes = []\n",
    "integ_CaHK_fluxes = []\n",
    "\n",
    "BP_mags = []\n",
    "RP_mags = []\n",
    "CaHK_mags = []\n",
    "colour_values = []\n",
    "CaHK_BP_values = []\n",
    "mag_colour_values = []\n",
    "metallicities = []\n",
    "temperatures = []\n",
    "\n",
    "for i in range(0,(len(model_atmo_data))):\n",
    "    \n",
    "    bp_noise = np.random.normal(0,0.1,len(ascii.read(model_atmo_data[i])['bp'])) #Adding some random noise\n",
    "    rp_noise = np.random.normal(0,0.1,len(ascii.read(model_atmo_data[i])['rp']))\n",
    "    bp_flux = ascii.read(model_atmo_data[i])['bp'] + bp_noise\n",
    "    rp_flux = ascii.read(model_atmo_data[i])['rp'] + rp_noise\n",
    "    \n",
    "    int_bp_flux = np.sum(bp_flux)\n",
    "    int_rp_flux = np.sum(rp_flux)\n",
    "    integ_CaHK_flux = np.sum(bp_flux[284:299]) #indexes for between 390nm and 400nm \n",
    "    \n",
    "    int_bp_fluxes += [int_bp_flux]\n",
    "    int_rp_fluxes += [int_rp_flux]\n",
    "    integ_CaHK_fluxes += [integ_CaHK_flux] \n",
    "    #print(model_atmo_data[i].split(\"_\",3)[2].split(\"feHm\",1)[1])\n",
    "    \n",
    "    BP_mag = 25.35 - (2.5*(np.log10(int_bp_fluxes[i])))\n",
    "    RP_mag = 24.76 - (2.5*(np.log10(int_rp_fluxes[i])))\n",
    "    CaHK_mag = 22.00 - (2.5*(np.log10(integ_CaHK_fluxes[i])))\n",
    "    colour = BP_mag - RP_mag\n",
    "    CaHK_BP = CaHK_mag - BP_mag\n",
    "    mag_colour = CaHK_BP - colour\n",
    "    \n",
    "    BP_mags += [BP_mag]\n",
    "    RP_mags += [RP_mag]\n",
    "    CaHK_mags += [CaHK_mag]\n",
    "    colour_values += [colour] #BP-RP is approximately equal to colour\n",
    "    CaHK_BP_values += [CaHK_BP] #This is the difference in magnitude between the CaH&K line magnitude and BP\n",
    "    mag_colour_values += [mag_colour] # This is (CaH&K - BP) - (BP - RP)\n",
    "    \n",
    "    metal_values = model_atmo_data[i].split(\"_\",3)[2].split(\"feHm\",1)[1] \n",
    "    #this extracts the value of the metallicity from the file name\n",
    "    metallicities += [metal_values]\n",
    "    \n",
    "    temp = model_atmo_data[i].split(\"_\",2)[1].split(\"t\",1)[1]\n",
    "    #this extracts the value of the temperature from the file name\n",
    "    temperatures += [temp]\n",
    "\n",
    "#print(len(mag_colour_values))\n",
    "#print(len(noise))\n",
    "#print(len(metallicities))\n",
    "print(max(temperatures))"
   ]
  },
  {
   "cell_type": "code",
   "execution_count": null,
   "metadata": {
    "collapsed": true
   },
   "outputs": [],
   "source": [
    "colour_values = np.array(colour_values)\n",
    "mag_colour_values = np.array(mag_colour_values)\n",
    "metallicities = np.array(metallicities)\n",
    "\n",
    "#type(metallicities)\n"
   ]
  },
  {
   "cell_type": "code",
   "execution_count": null,
   "metadata": {
    "collapsed": true
   },
   "outputs": [],
   "source": [
    "metallicities = metallicities.astype(float)\n",
    "\n",
    "metallicities = metallicities*-1 # This was done so the metallicities would show up correctly on the scatter plot"
   ]
  },
  {
   "cell_type": "code",
   "execution_count": null,
   "metadata": {
    "collapsed": true
   },
   "outputs": [],
   "source": [
    "#print(metallicities)"
   ]
  },
  {
   "cell_type": "code",
   "execution_count": null,
   "metadata": {
    "collapsed": true
   },
   "outputs": [],
   "source": [
    "#type(colour_values)"
   ]
  },
  {
   "cell_type": "code",
   "execution_count": null,
   "metadata": {
    "collapsed": true
   },
   "outputs": [],
   "source": [
    "#type(mag_colour_values)"
   ]
  },
  {
   "cell_type": "code",
   "execution_count": null,
   "metadata": {
    "collapsed": true
   },
   "outputs": [],
   "source": [
    "known_metallicities = [-0.25,-0.5,-0.75,-1.,-1.5,-2.,-2.5,-3.,-3.5,-4.,-4.5,-5.]\n",
    "\n",
    "#print(known_metallicities)\n",
    "#print(metallicities)\n",
    "\n",
    "#print(len(known_metallicities))"
   ]
  },
  {
   "cell_type": "code",
   "execution_count": null,
   "metadata": {
    "collapsed": true
   },
   "outputs": [],
   "source": [
    "class Metallicity_dataset:\n",
    "    \n",
    "    def __init__(self, kM, km_colour, km_mag_colour):\n",
    "        \n",
    "        self.kM = kM       \n",
    "        self.km_colour = km_colour\n",
    "        self.km_mag_colour = km_mag_colour \n",
    "# necessary to add self to every method you want to have in a particular class\n",
    "#each object has three attributes: known metallicity, colour value, and magnitude minus colour"
   ]
  },
  {
   "cell_type": "code",
   "execution_count": null,
   "metadata": {},
   "outputs": [],
   "source": [
    "\n",
    "metal_datalist = [] \n",
    "#this is an array of objects where each known metallicity has all the values of (BP - RP) and (CaH&K - BP) - (BP - RP) associated\n",
    "#with that metallicity\n",
    "    \n",
    "\n",
    "for kM in known_metallicities:\n",
    "    #print(\"Extracting known metallicities\",kM)\n",
    "    km_colour = []  #this is an array for all the values of BP - RP\n",
    "    km_mag_colour = [] #this is an array for all the values of (CaH&K - BP) - (BP - RP)\n",
    "    \n",
    "    for i in range(0,(len(metallicities))):\n",
    "        #print(kM, metallicities[i],colour_values[i],mag_colour_values[i])\n",
    "\n",
    "        if metallicities[i] == kM:\n",
    "            #print(\"known metallicities are\", kM)\n",
    "            #print(\"colour values are\", colour_values[i])\n",
    "            #print(\"mag - colour values are\", mag_colour_values[i])\n",
    "            \n",
    "            km_colour.append(colour_values[i])\n",
    "            km_mag_colour.append(mag_colour_values[i])\n",
    "            \n",
    "    #print((len(km_mag_colour)))\n",
    "    #print((len(km_colour)))\n",
    "        \n",
    "\n",
    "    metal_datalist.append(Metallicity_dataset(kM, km_colour, km_mag_colour))\n",
    "    \n",
    "    \n",
    "    #end of the appending, obtained all values with the current kM, now I can do the fit\n",
    "           \n",
    "print(\"finished\")            "
   ]
  },
  {
   "cell_type": "code",
   "execution_count": null,
   "metadata": {},
   "outputs": [],
   "source": [
    "## This bit of code plots a scatter graph with a colour bar ##\n",
    "\n",
    "fig, ax = plt.subplots()\n",
    "ax.set_ylim(1.5,0.0)\n",
    "ax.set_xlim(0,2)\n",
    "im = ax.scatter(colour_values, mag_colour_values, c=metallicities)\n",
    "fig.colorbar(im, ax=ax)\n",
    "ax.set_xlabel('(BP-RP)')\n",
    "ax.set_ylabel('(CaHK-BP)-(BP-RP)')\n",
    "#ax.set_title(\"Difference in magnitude against colour\")\n",
    "\n",
    "plt.show()\n",
    "plt.savefig('Graph of all stars.png',dpi=300)"
   ]
  },
  {
   "cell_type": "code",
   "execution_count": null,
   "metadata": {
    "collapsed": true
   },
   "outputs": [],
   "source": [
    "## Code for plotting a scatter graph with multiple lines of best fit based on metallicity ##\n",
    "fig, ax = plt.subplots()\n",
    "ax.set_ylim(1.5,0.0)\n",
    "ax.set_xlim(0,2)\n",
    "im = ax.scatter(colour_values, mag_colour_values, c=metallicities)\n",
    "fig.colorbar(im, ax=ax)\n",
    "ax.set_xlabel('(BP-RP)')\n",
    "ax.set_ylabel('(CaHK-BP)-(BP-RP)')\n",
    "#ax.set_title(\"Difference in magnitude against colour\")\n",
    "\n",
    "for self in metal_datalist:\n",
    "    #print(\"extracting metallicity from data set\",self.kM)\n",
    "    \n",
    "    line_best_fit = np.poly1d(np.polyfit(self.km_colour, self.km_mag_colour, 5))\n",
    "    plt.plot(self.km_colour,line_best_fit(self.km_colour),'k--')\n",
    "    \n",
    "## This loop here plots a line for each metallicity\n",
    "    \n",
    "    \n",
    "plt.show()\n",
    "#plt.savefig('Graph of metal-poor stars.png',dpi=300)"
   ]
  },
  {
   "cell_type": "markdown",
   "metadata": {},
   "source": [
    "### Plotting a graph of temperature against colour"
   ]
  },
  {
   "cell_type": "markdown",
   "metadata": {},
   "source": [
    "This section of the code shows the plotting of a graph of temperature against (BP - RP) for dwarf stars and giant stars. For this, I used log(g) of 5.0 for dwarf stars and log(g) of 1.0 for giant stars."
   ]
  },
  {
   "cell_type": "code",
   "execution_count": null,
   "metadata": {
    "collapsed": true
   },
   "outputs": [],
   "source": [
    "model_atmo_data_dwarf = []\n",
    "\n",
    "for each_file in glob.glob('*g5.0*.ascii'):\n",
    "    model_atmo_data_dwarf.append(each_file)\n",
    "    \n",
    "\n",
    "print(len(model_atmo_data_dwarf))"
   ]
  },
  {
   "cell_type": "code",
   "execution_count": null,
   "metadata": {
    "collapsed": true
   },
   "outputs": [],
   "source": [
    "model_atmo_data_giant = []\n",
    "\n",
    "for each_file in glob.glob('*g1.0*.ascii'):\n",
    "    model_atmo_data_giant.append(each_file)\n",
    "    \n",
    "\n",
    "print(len(model_atmo_data_giant))"
   ]
  },
  {
   "cell_type": "code",
   "execution_count": null,
   "metadata": {
    "collapsed": true
   },
   "outputs": [],
   "source": [
    "i = np.arange(0,(len(model_atmo_data_dwarf)),1)\n",
    "\n",
    "int_bp_fluxes = []\n",
    "int_rp_fluxes = []\n",
    "integ_CaHK_fluxes = []\n",
    "\n",
    "BP_mags = []\n",
    "RP_mags = []\n",
    "CaHK_mags = []\n",
    "colour_values_dwarf = []\n",
    "CaHK_BP_values = []\n",
    "mag_colour_values = []\n",
    "metallicities = []\n",
    "temperatures_dwarf = []\n",
    "\n",
    "for i in range(0,(len(model_atmo_data_dwarf))):\n",
    "    \n",
    "    bp_noise = np.random.normal(0,0.1,len(ascii.read(model_atmo_data_dwarf[i])['bp']))\n",
    "    rp_noise = np.random.normal(0,0.1,len(ascii.read(model_atmo_data_dwarf[i])['rp']))\n",
    "    bp_flux = ascii.read(model_atmo_data_dwarf[i])['bp'] + bp_noise\n",
    "    rp_flux = ascii.read(model_atmo_data_dwarf[i])['rp'] + rp_noise\n",
    "    \n",
    "    int_bp_flux = np.sum(bp_flux)\n",
    "    int_rp_flux = np.sum(rp_flux)\n",
    "    integ_CaHK_flux = np.sum(bp_flux[284:299]) #indexes for between 390nm and 400nm \n",
    "    \n",
    "    int_bp_fluxes += [int_bp_flux]\n",
    "    int_rp_fluxes += [int_rp_flux]\n",
    "    integ_CaHK_fluxes += [integ_CaHK_flux] \n",
    "    #print(model_atmo_data[i].split(\"_\",3)[2].split(\"feHm\",1)[1])\n",
    "    \n",
    "    BP_mag = 25.35 - (2.5*(np.log10(int_bp_fluxes[i])))\n",
    "    RP_mag = 24.76 - (2.5*(np.log10(int_rp_fluxes[i])))\n",
    "    CaHK_mag = 22.00 - (2.5*(np.log10(integ_CaHK_fluxes[i])))\n",
    "    colour = BP_mag - RP_mag\n",
    "    CaHK_BP = CaHK_mag - BP_mag\n",
    "    mag_colour = CaHK_BP - colour\n",
    "    \n",
    "    BP_mags += [BP_mag]\n",
    "    RP_mags += [RP_mag]\n",
    "    CaHK_mags += [CaHK_mag]\n",
    "    colour_values_dwarf += [colour] #BP-RP is approximately equal to colour\n",
    "    CaHK_BP_values += [CaHK_BP] #This is the difference in magnitude between the CaH&K line magnitude and bp\n",
    "    mag_colour_values += [mag_colour]\n",
    "    \n",
    "    metal_values = model_atmo_data_dwarf[i].split(\"_\",3)[2].split(\"feHm\",1)[1] \n",
    "    #this extracts the value of the metallicity from the file name\n",
    "    metallicities += [metal_values]\n",
    "    \n",
    "    temp = model_atmo_data_dwarf[i].split(\"_\",2)[1].split(\"t\",1)[1]\n",
    "    #this extracts the value of the temperature from the file name\n",
    "    temperatures_dwarf += [temp]"
   ]
  },
  {
   "cell_type": "code",
   "execution_count": null,
   "metadata": {
    "collapsed": true
   },
   "outputs": [],
   "source": [
    "i = np.arange(0,(len(model_atmo_data_giant)),1)\n",
    "\n",
    "int_bp_fluxes = []\n",
    "int_rp_fluxes = []\n",
    "integ_CaHK_fluxes = []\n",
    "\n",
    "BP_mags = []\n",
    "RP_mags = []\n",
    "CaHK_mags = []\n",
    "colour_values_giant = []\n",
    "CaHK_BP_values = []\n",
    "mag_colour_values = []\n",
    "metallicities = []\n",
    "temperatures_giant = []\n",
    "\n",
    "for i in range(0,(len(model_atmo_data_giant))):\n",
    "    \n",
    "    bp_noise = np.random.normal(0,0.1,len(ascii.read(model_atmo_data_giant[i])['bp']))\n",
    "    rp_noise = np.random.normal(0,0.1,len(ascii.read(model_atmo_data_giant[i])['rp']))\n",
    "    bp_flux = ascii.read(model_atmo_data_giant[i])['bp'] + bp_noise\n",
    "    rp_flux = ascii.read(model_atmo_data_giant[i])['rp'] + rp_noise\n",
    "    \n",
    "    int_bp_flux = np.sum(bp_flux)\n",
    "    int_rp_flux = np.sum(rp_flux)\n",
    "    integ_CaHK_flux = np.sum(bp_flux[284:299]) #indexes for between 390nm and 400nm \n",
    "    \n",
    "    int_bp_fluxes += [int_bp_flux]\n",
    "    int_rp_fluxes += [int_rp_flux]\n",
    "    integ_CaHK_fluxes += [integ_CaHK_flux] \n",
    "    #print(model_atmo_data[i].split(\"_\",3)[2].split(\"feHm\",1)[1])\n",
    "    \n",
    "    BP_mag = 25.35 - (2.5*(np.log10(int_bp_fluxes[i])))\n",
    "    RP_mag = 24.76 - (2.5*(np.log10(int_rp_fluxes[i])))\n",
    "    CaHK_mag = 22.00 - (2.5*(np.log10(integ_CaHK_fluxes[i])))\n",
    "    colour = BP_mag - RP_mag\n",
    "    CaHK_BP = CaHK_mag - BP_mag\n",
    "    mag_colour = CaHK_BP - colour\n",
    "    \n",
    "    BP_mags += [BP_mag]\n",
    "    RP_mags += [RP_mag]\n",
    "    CaHK_mags += [CaHK_mag]\n",
    "    colour_values_giant += [colour] #BP-RP is approximately equal to colour\n",
    "    CaHK_BP_values += [CaHK_BP] #This is the difference in magnitude between the CaH&K line magnitude and bp\n",
    "    mag_colour_values += [mag_colour]\n",
    "    \n",
    "    metal_values = model_atmo_data_giant[i].split(\"_\",3)[2].split(\"feHm\",1)[1] \n",
    "    #this extracts the value of the metallicity from the file name\n",
    "    metallicities += [metal_values]\n",
    "    \n",
    "    temp = model_atmo_data_giant[i].split(\"_\",2)[1].split(\"t\",1)[1]\n",
    "    #this extracts the value of the temperature from the file name\n",
    "    temperatures_giant += [temp]"
   ]
  },
  {
   "cell_type": "code",
   "execution_count": null,
   "metadata": {
    "collapsed": true,
    "scrolled": true
   },
   "outputs": [],
   "source": [
    "### This plots a graph of temperature against colour. ###\n",
    "\n",
    "plt.figure()\n",
    "plt.grid(True)#This forms a grid underneath the data, making the data easier to read\n",
    "plt.plot(colour_values_giant,temperatures_giant,'b.',label=\"Giant stars\") \n",
    "plt.plot(colour_values_dwarf,temperatures_dwarf,'k.',label=\"Dwarf stars\") \n",
    "plt.legend()\n",
    "plt.title('Temperature against colour')#This codes for the title of the graph \n",
    "plt.xlabel('(BP - RP)') #This labels the x-axis    \n",
    "plt.ylabel('Temperature')#This labels the y-axis\n",
    "plt.show()\n",
    "plt.savefig('Temperature against colour.png',dpi=300)"
   ]
  },
  {
   "cell_type": "code",
   "execution_count": null,
   "metadata": {
    "collapsed": true
   },
   "outputs": [],
   "source": [
    "# This piece of code is useful for reading a file from a different folder #\n",
    "\n",
    "#filename = '\\\\Users\\\\Florence\\\\Documents\\\\Summer_research_project_Cambridge\\\\singleSpectra\\\\csvFiles\\\\gaia_t2500_feHm0.5_g0.5.ascii'\n",
    "\n",
    "#data1 = ascii.read(filename)\n",
    "\n",
    "#print(data1)"
   ]
  }
 ],
 "metadata": {
  "kernelspec": {
   "display_name": "Python 3",
   "language": "python",
   "name": "python3"
  },
  "language_info": {
   "codemirror_mode": {
    "name": "ipython",
    "version": 3
   },
   "file_extension": ".py",
   "mimetype": "text/x-python",
   "name": "python",
   "nbconvert_exporter": "python",
   "pygments_lexer": "ipython3",
   "version": "3.6.2"
  }
 },
 "nbformat": 4,
 "nbformat_minor": 2
}
